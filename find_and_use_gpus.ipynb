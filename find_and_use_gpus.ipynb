{
 "cells": [
  {
   "cell_type": "markdown",
   "metadata": {},
   "source": [
    "This notebook we will use to find and deploy the most affordable GPU's on the market with the Shadeform API. We limit our search to machines with 1x80GB A100 machines, but that is easily configurable below."
   ]
  },
  {
   "cell_type": "code",
   "execution_count": null,
   "metadata": {},
   "outputs": [],
   "source": [
    "import requests\n",
    "import json\n"
   ]
  },
  {
   "cell_type": "code",
   "execution_count": null,
   "metadata": {},
   "outputs": [],
   "source": [
    "base_url = \"https://api.shadeform.ai/v1/instances\"\n",
    "instance_type_url = base_url + \"/types\"\n",
    "create_url = base_url + \"/create\"\n",
    "headers = {\n",
    "    \"X-API-KEY\": \"<Add-your-key-here>\", \n",
    "    \"Content-Type\" : \"application/json\"\n",
    "}\n",
    "a100_shade_instance_type = \"A100_80G\""
   ]
  },
  {
   "cell_type": "code",
   "execution_count": null,
   "metadata": {},
   "outputs": [],
   "source": [
    "response = requests.request(\"GET\", instance_type_url, headers=headers)\n",
    "\n",
    "print(response.text)\n",
    "\n"
   ]
  },
  {
   "cell_type": "code",
   "execution_count": null,
   "metadata": {},
   "outputs": [],
   "source": [
    "instance_types = json.loads(response.text)[\"instance_types\"]\n",
    "lowest_price = None\n",
    "cheapest_instance = None\n",
    "region = None\n",
    "\n",
    "for instance in instance_types:\n",
    "    if instance[\"shade_instance_type\"] == a100_shade_instance_type:\n",
    "        if lowest_price is None or lowest_price > instance[\"hourly_price\"]:\n",
    "            available = False\n",
    "            for availabilities in instance[\"availability\"]:\n",
    "                if availabilities[\"available\"]:\n",
    "                    region = availabilities[\"region\"]\n",
    "                    available = True\n",
    "                    break\n",
    "            if available:\n",
    "                lowest_price = instance[\"hourly_price\"]\n",
    "                cheapest_instance = instance\n",
    "\n",
    "if cheapest_instance is not None:\n",
    "    print(f\"The cheapest {a100_shade_instance_type} instance is:\", cheapest_instance)\n",
    "else:\n",
    "    print(f\"No instances of type {a100_shade_instance_type} found.\")"
   ]
  },
  {
   "cell_type": "code",
   "execution_count": null,
   "metadata": {},
   "outputs": [],
   "source": []
  },
  {
   "cell_type": "code",
   "execution_count": null,
   "metadata": {},
   "outputs": [],
   "source": [
    "payload = {\n",
    "    \"cloud\" : cheapest_instance[\"cloud\"],\n",
    "    \"name\" : \"cool_gpu_server\",\n",
    "    \"region\" : region,\n",
    "    \"shade_cloud\" : True,\n",
    "    \"shade_instance_type\" : a100_shade_instance_type\n",
    "}\n",
    "\n",
    "response = requests.request(\"POST\", create_url, json=payload, headers=headers)\n"
   ]
  },
  {
   "cell_type": "code",
   "execution_count": null,
   "metadata": {},
   "outputs": [],
   "source": [
    "print(response.text)"
   ]
  },
  {
   "cell_type": "code",
   "execution_count": null,
   "metadata": {},
   "outputs": [],
   "source": []
  }
 ],
 "metadata": {
  "kernelspec": {
   "display_name": "Python 3",
   "language": "python",
   "name": "python3"
  },
  "language_info": {
   "codemirror_mode": {
    "name": "ipython",
    "version": 3
   },
   "file_extension": ".py",
   "mimetype": "text/x-python",
   "name": "python",
   "nbconvert_exporter": "python",
   "pygments_lexer": "ipython3",
   "version": "3.9.6"
  }
 },
 "nbformat": 4,
 "nbformat_minor": 2
}
